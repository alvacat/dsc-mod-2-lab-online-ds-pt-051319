{
 "cells": [
  {
   "cell_type": "markdown",
   "metadata": {},
   "source": [
    "# Module 2 Summative Lab\n",
    "\n",
    "## Introduction\n",
    "\n",
    "For today's section, we're going to work on a single big lab to apply everything we've learned in Module 2!\n",
    "\n",
    "## About This Lab\n",
    "\n",
    "A quick note before getting started--this lab isn't like other labs you seen so far. This lab is meant to take ~8 hours to complete, so it's much longer and more challenging that the average labs you've seen so far. If you feel like this lab is challenging or that you might be struggling a bit, don't fret--that's by design! With everything we've learned about Web Scraping, APIs, and Databases, the best way to test our knowledge of it is to build something substantial! \n",
    "\n",
    "## The Project\n",
    "\n",
    "In this lab, we're going to make use of everything we've learned about APIs, databases, and Object-Oriented Programming to **_Extract, Transform, and Load_** (or **_ETL_**, for short) some data from a SQL database into a MongoDB Database. \n",
    "\n",
    "You'll find a database containing information about soccer teams and the matches they've played in the file `database.sqlite`. For this project, our goal is to get the data we think is important from this SQL database, do some calculations and data transformation, and then store everything in a MongoDB database. \n",
    "\n",
    "Let's get into the specifics of this project.\n",
    "\n",
    "### The Goal\n",
    "\n",
    "Start by examining the data dictionary for the SQL database we'll be working with, which comes from this [kaggle page](https://www.kaggle.com/laudanum/footballdelphi).  Familiarize yourself with the tables it contains, and what each column means. We'll be using this database to get data on each soccer team, calculate some summary statistics, and then store each in a MongoDB database. \n",
    "\n",
    "Upon completion of this lab, each unique team in this dataset should have a record in the MongoDB instance containing the following information:\n",
    "\n",
    "* The name of the team\n",
    "* The total number of goals scored by the team during the 2011 season\n",
    "* The total number of wins the team earned during the 2011 season\n",
    "* A histogram visualization of the team's wins and losses for the 2011 season (store the visualization directly)\n",
    "* The team's win percentage on days where it was raining during games in the 2011 season. \n",
    "\n",
    "#### Getting the Weather Data\n",
    "\n",
    "Note that for this last calculation, you'll need to figure out if it was raining or not during the game. The database itself does not contain this information, but it does contain the date on which the game was played. For this, you'll need to use the [DarkSky API](https://darksky.net/dev) to get the historical weather data for that day. Note that each game is played in a different location, and this information is not contained in our SQL database. However, the teams in this database are largely german, so go ahead and just use the weather in Berlin, Germany as a proxy for this information. If it was raining in Berlin on the day the game was played, count that as rain game--**_you do not need to try and figure out the actual weather at each game's location, because we don't have that information!_**\n",
    "\n",
    "#### NOTE: The DarkSky API is limited to 1000 free API calls a day, so be sure to test your model on very small samples. Otherwise, you'll hit the rate limit!\n",
    "\n",
    "## Project Architecture\n",
    "\n",
    "Unlike previous labs, this lab is more open-ended, and will require you to make design decisions and plan out your strategy for building a system with this many working parts. However, **_using Object-Oriented Programming is a requirement for this project--you must create at least 2 separate, well structured classes in your solution!_** Although it may seem easier to \"just start coding\", this is a classic beginner's mistake. Instead, think about separating out the different functionalities you'll need to reach your goal, and then build classes to handle each. For instance, at minimum, you'll need to:\n",
    "\n",
    "* Query the SQL database\n",
    "* Calculate summary statistics\n",
    "* Get the weather data from the DarkSky API\n",
    "* Load the data into MongoDB\n",
    "\n",
    "We **_strongly recommend_** you consider creating separate classes for handling at least some of these of these tasks.  Be sure to plan the inputs, outputs, and methods for each class before you begin coding! \n",
    "\n",
    "**_NOTE:_** We have provided some empty classes below. You are welcome to delete them and use a different architecture for this project if you so choose.  You do not have to use each of them, they are just there to give you an idea of what you could sorts of classes you may want to consider using.\n",
    "\n",
    "### Rapid Prototyping and Refactoring\n",
    "\n",
    "It's totally okay to try to get a task working without using OOP. For instance, when experimenting with the DarkSky API for getting historical weather data, it makes sense to just write the code in the cells and rapidly iterate until you get it all working. However, once you get it working, you're not done--you should then **_Refactor_** your code into functions or classes to make your code more modular, reusable, understandable, and maintainable! \n",
    "\n",
    "In short--do what you need to do to get each separate piece of functionality working, and then refactor it into a class after you've figured it out!\n",
    "\n",
    "### Some Final Advice\n",
    "\n",
    "You haven't built anything this big or complex thus far, so you may not yet fully realize how much trial and error goes into it. If your code keeps breaking, resist the urge to get frustrated, and just keep working. Software development is an iterative process!  No one writes perfect code that works the first time for something this involved. You're going to run into _a lot_ of small errors in this project, right up until the point where it just works, and then you're done! However, you can reduce these errors by planning out your code, and thinking about how all of the pieces fit together before you begin coding. Once you have some basic understanding of how it all will work, then you'll know what you need to build, and then all that is left is to build it!\n",
    "\n",
    "In short:\n",
    "\n",
    "* Plan ahead--you'll thank yourself later!\n",
    "* Errors and broken code aren't bad, they're normal. \n",
    "* Keep working, and stay confident--you can do this!\n",
    "\n",
    "Good luck--we look forward to seeing your completed project!"
   ]
  },
  {
   "cell_type": "markdown",
   "metadata": {},
   "source": [
    "### Importing the Libraries"
   ]
  },
  {
   "cell_type": "code",
   "execution_count": 1,
   "metadata": {},
   "outputs": [],
   "source": [
    "import sqlite3\n",
    "import pandas as pd\n",
    "import matplotlib.pyplot as plt\n",
    "import requests\n",
    "import json\n",
    "import time\n",
    "import pymongo"
   ]
  },
  {
   "cell_type": "markdown",
   "metadata": {},
   "source": [
    "### Getting the data from the SQL tables into a Pandas dataframe"
   ]
  },
  {
   "cell_type": "code",
   "execution_count": 2,
   "metadata": {},
   "outputs": [],
   "source": [
    "conn=sqlite3.connect('database.sqlite')\n",
    "c=conn.cursor()"
   ]
  },
  {
   "cell_type": "code",
   "execution_count": 3,
   "metadata": {
    "scrolled": true
   },
   "outputs": [
    {
     "data": {
      "text/html": [
       "<div>\n",
       "<style scoped>\n",
       "    .dataframe tbody tr th:only-of-type {\n",
       "        vertical-align: middle;\n",
       "    }\n",
       "\n",
       "    .dataframe tbody tr th {\n",
       "        vertical-align: top;\n",
       "    }\n",
       "\n",
       "    .dataframe thead th {\n",
       "        text-align: right;\n",
       "    }\n",
       "</style>\n",
       "<table border=\"1\" class=\"dataframe\">\n",
       "  <thead>\n",
       "    <tr style=\"text-align: right;\">\n",
       "      <th></th>\n",
       "      <th>Match_ID</th>\n",
       "      <th>Div</th>\n",
       "      <th>Season</th>\n",
       "      <th>Date</th>\n",
       "      <th>HomeTeam</th>\n",
       "      <th>AwayTeam</th>\n",
       "      <th>FTHG</th>\n",
       "      <th>FTAG</th>\n",
       "      <th>FTR</th>\n",
       "    </tr>\n",
       "  </thead>\n",
       "  <tbody>\n",
       "    <tr>\n",
       "      <th>0</th>\n",
       "      <td>1092</td>\n",
       "      <td>D1</td>\n",
       "      <td>2011</td>\n",
       "      <td>2012-03-31</td>\n",
       "      <td>Nurnberg</td>\n",
       "      <td>Bayern Munich</td>\n",
       "      <td>0</td>\n",
       "      <td>1</td>\n",
       "      <td>A</td>\n",
       "    </tr>\n",
       "    <tr>\n",
       "      <th>1</th>\n",
       "      <td>1093</td>\n",
       "      <td>D1</td>\n",
       "      <td>2011</td>\n",
       "      <td>2011-12-11</td>\n",
       "      <td>Stuttgart</td>\n",
       "      <td>Bayern Munich</td>\n",
       "      <td>1</td>\n",
       "      <td>2</td>\n",
       "      <td>A</td>\n",
       "    </tr>\n",
       "    <tr>\n",
       "      <th>2</th>\n",
       "      <td>1094</td>\n",
       "      <td>D1</td>\n",
       "      <td>2011</td>\n",
       "      <td>2011-08-13</td>\n",
       "      <td>Wolfsburg</td>\n",
       "      <td>Bayern Munich</td>\n",
       "      <td>0</td>\n",
       "      <td>1</td>\n",
       "      <td>A</td>\n",
       "    </tr>\n",
       "    <tr>\n",
       "      <th>3</th>\n",
       "      <td>1095</td>\n",
       "      <td>D1</td>\n",
       "      <td>2011</td>\n",
       "      <td>2011-11-27</td>\n",
       "      <td>Mainz</td>\n",
       "      <td>Bayern Munich</td>\n",
       "      <td>3</td>\n",
       "      <td>2</td>\n",
       "      <td>H</td>\n",
       "    </tr>\n",
       "    <tr>\n",
       "      <th>4</th>\n",
       "      <td>1096</td>\n",
       "      <td>D1</td>\n",
       "      <td>2011</td>\n",
       "      <td>2012-02-18</td>\n",
       "      <td>Freiburg</td>\n",
       "      <td>Bayern Munich</td>\n",
       "      <td>0</td>\n",
       "      <td>0</td>\n",
       "      <td>D</td>\n",
       "    </tr>\n",
       "  </tbody>\n",
       "</table>\n",
       "</div>"
      ],
      "text/plain": [
       "   Match_ID Div  Season        Date   HomeTeam       AwayTeam  FTHG  FTAG FTR\n",
       "0      1092  D1    2011  2012-03-31   Nurnberg  Bayern Munich     0     1   A\n",
       "1      1093  D1    2011  2011-12-11  Stuttgart  Bayern Munich     1     2   A\n",
       "2      1094  D1    2011  2011-08-13  Wolfsburg  Bayern Munich     0     1   A\n",
       "3      1095  D1    2011  2011-11-27      Mainz  Bayern Munich     3     2   H\n",
       "4      1096  D1    2011  2012-02-18   Freiburg  Bayern Munich     0     0   D"
      ]
     },
     "execution_count": 3,
     "metadata": {},
     "output_type": "execute_result"
    }
   ],
   "source": [
    "c.execute(\"\"\"SELECT *\n",
    "             FROM Matches\n",
    "             WHERE Season==2011\"\"\")\n",
    "soccer=pd.DataFrame(c.fetchall())\n",
    "soccer.columns=[x[0] for x in c.description]\n",
    "soccer.head()"
   ]
  },
  {
   "cell_type": "code",
   "execution_count": 4,
   "metadata": {
    "scrolled": false
   },
   "outputs": [
    {
     "data": {
      "text/plain": [
       "56"
      ]
     },
     "execution_count": 4,
     "metadata": {},
     "output_type": "execute_result"
    }
   ],
   "source": [
    "teams=list(set(list(soccer.HomeTeam.unique())+list(soccer.AwayTeam.unique())))\n",
    "len(teams)"
   ]
  },
  {
   "cell_type": "markdown",
   "metadata": {},
   "source": [
    "There are 56 unique teams in the database."
   ]
  },
  {
   "cell_type": "code",
   "execution_count": 5,
   "metadata": {},
   "outputs": [],
   "source": [
    "def team_goals(team,dataframe): #Returns the number of goals for a given team\n",
    "    goals=0\n",
    "    for i in range(len(dataframe)):\n",
    "        if dataframe['HomeTeam'][i]==team:\n",
    "            goals+=dataframe['FTHG'][i]\n",
    "        elif dataframe['AwayTeam'][i]==team:\n",
    "            goals+=dataframe['FTAG'][i]\n",
    "        else:\n",
    "            pass\n",
    "    return goals\n",
    "\n",
    "def team_wins(team,dataframe): #returns the number of wins for a given team\n",
    "    wins=0\n",
    "    for i in range(len(dataframe)):\n",
    "        if dataframe['FTR'][i]=='A' and dataframe['AwayTeam'][i]==team:\n",
    "            wins+=1\n",
    "        elif dataframe['FTR'][i]=='H' and dataframe['HomeTeam'][i]==team:\n",
    "            wins+=1\n",
    "        else:\n",
    "            pass\n",
    "    return wins\n",
    "\n",
    "def team_loss(team,dataframe): #returns the number of losses for a given team\n",
    "    losses=0\n",
    "    for i in range(len(dataframe)):\n",
    "        if dataframe['FTR'][i]=='H' and dataframe['AwayTeam'][i]==team:\n",
    "            losses+=1\n",
    "        elif dataframe['FTR'][i]=='A' and dataframe['HomeTeam'][i]==team:\n",
    "            losses+=1\n",
    "        else:\n",
    "            pass\n",
    "    return losses"
   ]
  },
  {
   "cell_type": "code",
   "execution_count": 6,
   "metadata": {},
   "outputs": [
    {
     "data": {
      "text/plain": [
       "59"
      ]
     },
     "execution_count": 6,
     "metadata": {},
     "output_type": "execute_result"
    }
   ],
   "source": [
    "a_team=teams[0]\n",
    "team_goals(a_team,soccer)"
   ]
  },
  {
   "cell_type": "code",
   "execution_count": 7,
   "metadata": {},
   "outputs": [
    {
     "data": {
      "text/plain": [
       "18"
      ]
     },
     "execution_count": 7,
     "metadata": {},
     "output_type": "execute_result"
    }
   ],
   "source": [
    "team_wins(a_team,soccer)"
   ]
  },
  {
   "cell_type": "code",
   "execution_count": 8,
   "metadata": {},
   "outputs": [
    {
     "data": {
      "text/plain": [
       "8"
      ]
     },
     "execution_count": 8,
     "metadata": {},
     "output_type": "execute_result"
    }
   ],
   "source": [
    "team_loss(a_team,soccer)"
   ]
  },
  {
   "cell_type": "code",
   "execution_count": 9,
   "metadata": {},
   "outputs": [],
   "source": [
    "goals_for_each_team=[]\n",
    "for team in teams:\n",
    "    goals_for_each_team.append(team_goals(team,soccer))"
   ]
  },
  {
   "cell_type": "code",
   "execution_count": 10,
   "metadata": {},
   "outputs": [],
   "source": [
    "wins_for_each_team=[]\n",
    "for team in teams:\n",
    "    wins_for_each_team.append(team_wins(team,soccer))"
   ]
  },
  {
   "cell_type": "code",
   "execution_count": 11,
   "metadata": {},
   "outputs": [],
   "source": [
    "loss_for_each_team=[]\n",
    "for team in teams:\n",
    "    loss_for_each_team.append(team_loss(team,soccer))"
   ]
  },
  {
   "cell_type": "code",
   "execution_count": 12,
   "metadata": {
    "scrolled": true
   },
   "outputs": [
    {
     "data": {
      "text/html": [
       "<div>\n",
       "<style scoped>\n",
       "    .dataframe tbody tr th:only-of-type {\n",
       "        vertical-align: middle;\n",
       "    }\n",
       "\n",
       "    .dataframe tbody tr th {\n",
       "        vertical-align: top;\n",
       "    }\n",
       "\n",
       "    .dataframe thead th {\n",
       "        text-align: right;\n",
       "    }\n",
       "</style>\n",
       "<table border=\"1\" class=\"dataframe\">\n",
       "  <thead>\n",
       "    <tr style=\"text-align: right;\">\n",
       "      <th></th>\n",
       "      <th>TeamName</th>\n",
       "      <th>Goals</th>\n",
       "      <th>Wins</th>\n",
       "      <th>Losses</th>\n",
       "    </tr>\n",
       "  </thead>\n",
       "  <tbody>\n",
       "    <tr>\n",
       "      <th>0</th>\n",
       "      <td>St Pauli</td>\n",
       "      <td>59</td>\n",
       "      <td>18</td>\n",
       "      <td>8</td>\n",
       "    </tr>\n",
       "    <tr>\n",
       "      <th>1</th>\n",
       "      <td>Freiburg</td>\n",
       "      <td>45</td>\n",
       "      <td>10</td>\n",
       "      <td>14</td>\n",
       "    </tr>\n",
       "    <tr>\n",
       "      <th>2</th>\n",
       "      <td>Fortuna Dusseldorf</td>\n",
       "      <td>64</td>\n",
       "      <td>16</td>\n",
       "      <td>4</td>\n",
       "    </tr>\n",
       "    <tr>\n",
       "      <th>3</th>\n",
       "      <td>Hansa Rostock</td>\n",
       "      <td>34</td>\n",
       "      <td>5</td>\n",
       "      <td>17</td>\n",
       "    </tr>\n",
       "    <tr>\n",
       "      <th>4</th>\n",
       "      <td>Stuttgart</td>\n",
       "      <td>63</td>\n",
       "      <td>15</td>\n",
       "      <td>11</td>\n",
       "    </tr>\n",
       "    <tr>\n",
       "      <th>5</th>\n",
       "      <td>West Brom</td>\n",
       "      <td>45</td>\n",
       "      <td>13</td>\n",
       "      <td>17</td>\n",
       "    </tr>\n",
       "    <tr>\n",
       "      <th>6</th>\n",
       "      <td>Ingolstadt</td>\n",
       "      <td>43</td>\n",
       "      <td>8</td>\n",
       "      <td>13</td>\n",
       "    </tr>\n",
       "    <tr>\n",
       "      <th>7</th>\n",
       "      <td>Frankfurt FSV</td>\n",
       "      <td>43</td>\n",
       "      <td>7</td>\n",
       "      <td>13</td>\n",
       "    </tr>\n",
       "    <tr>\n",
       "      <th>8</th>\n",
       "      <td>Mainz</td>\n",
       "      <td>47</td>\n",
       "      <td>9</td>\n",
       "      <td>13</td>\n",
       "    </tr>\n",
       "    <tr>\n",
       "      <th>9</th>\n",
       "      <td>Everton</td>\n",
       "      <td>50</td>\n",
       "      <td>15</td>\n",
       "      <td>12</td>\n",
       "    </tr>\n",
       "    <tr>\n",
       "      <th>10</th>\n",
       "      <td>Wolves</td>\n",
       "      <td>40</td>\n",
       "      <td>5</td>\n",
       "      <td>23</td>\n",
       "    </tr>\n",
       "    <tr>\n",
       "      <th>11</th>\n",
       "      <td>Wolfsburg</td>\n",
       "      <td>47</td>\n",
       "      <td>13</td>\n",
       "      <td>16</td>\n",
       "    </tr>\n",
       "    <tr>\n",
       "      <th>12</th>\n",
       "      <td>Norwich</td>\n",
       "      <td>52</td>\n",
       "      <td>12</td>\n",
       "      <td>15</td>\n",
       "    </tr>\n",
       "    <tr>\n",
       "      <th>13</th>\n",
       "      <td>Schalke 04</td>\n",
       "      <td>74</td>\n",
       "      <td>20</td>\n",
       "      <td>10</td>\n",
       "    </tr>\n",
       "    <tr>\n",
       "      <th>14</th>\n",
       "      <td>Hamburg</td>\n",
       "      <td>35</td>\n",
       "      <td>8</td>\n",
       "      <td>14</td>\n",
       "    </tr>\n",
       "    <tr>\n",
       "      <th>15</th>\n",
       "      <td>Augsburg</td>\n",
       "      <td>36</td>\n",
       "      <td>8</td>\n",
       "      <td>12</td>\n",
       "    </tr>\n",
       "    <tr>\n",
       "      <th>16</th>\n",
       "      <td>Bochum</td>\n",
       "      <td>41</td>\n",
       "      <td>10</td>\n",
       "      <td>17</td>\n",
       "    </tr>\n",
       "    <tr>\n",
       "      <th>17</th>\n",
       "      <td>Tottenham</td>\n",
       "      <td>66</td>\n",
       "      <td>20</td>\n",
       "      <td>9</td>\n",
       "    </tr>\n",
       "    <tr>\n",
       "      <th>18</th>\n",
       "      <td>Karlsruhe</td>\n",
       "      <td>34</td>\n",
       "      <td>9</td>\n",
       "      <td>19</td>\n",
       "    </tr>\n",
       "    <tr>\n",
       "      <th>19</th>\n",
       "      <td>Hertha</td>\n",
       "      <td>38</td>\n",
       "      <td>7</td>\n",
       "      <td>17</td>\n",
       "    </tr>\n",
       "    <tr>\n",
       "      <th>20</th>\n",
       "      <td>Arsenal</td>\n",
       "      <td>74</td>\n",
       "      <td>21</td>\n",
       "      <td>10</td>\n",
       "    </tr>\n",
       "    <tr>\n",
       "      <th>21</th>\n",
       "      <td>QPR</td>\n",
       "      <td>43</td>\n",
       "      <td>10</td>\n",
       "      <td>21</td>\n",
       "    </tr>\n",
       "    <tr>\n",
       "      <th>22</th>\n",
       "      <td>Sunderland</td>\n",
       "      <td>45</td>\n",
       "      <td>11</td>\n",
       "      <td>15</td>\n",
       "    </tr>\n",
       "    <tr>\n",
       "      <th>23</th>\n",
       "      <td>Hoffenheim</td>\n",
       "      <td>41</td>\n",
       "      <td>10</td>\n",
       "      <td>13</td>\n",
       "    </tr>\n",
       "    <tr>\n",
       "      <th>24</th>\n",
       "      <td>FC Koln</td>\n",
       "      <td>39</td>\n",
       "      <td>8</td>\n",
       "      <td>20</td>\n",
       "    </tr>\n",
       "    <tr>\n",
       "      <th>25</th>\n",
       "      <td>Dresden</td>\n",
       "      <td>50</td>\n",
       "      <td>12</td>\n",
       "      <td>13</td>\n",
       "    </tr>\n",
       "    <tr>\n",
       "      <th>26</th>\n",
       "      <td>Cottbus</td>\n",
       "      <td>30</td>\n",
       "      <td>8</td>\n",
       "      <td>15</td>\n",
       "    </tr>\n",
       "    <tr>\n",
       "      <th>27</th>\n",
       "      <td>Munich 1860</td>\n",
       "      <td>62</td>\n",
       "      <td>17</td>\n",
       "      <td>11</td>\n",
       "    </tr>\n",
       "    <tr>\n",
       "      <th>28</th>\n",
       "      <td>Aachen</td>\n",
       "      <td>30</td>\n",
       "      <td>6</td>\n",
       "      <td>15</td>\n",
       "    </tr>\n",
       "    <tr>\n",
       "      <th>29</th>\n",
       "      <td>Hannover</td>\n",
       "      <td>41</td>\n",
       "      <td>12</td>\n",
       "      <td>10</td>\n",
       "    </tr>\n",
       "    <tr>\n",
       "      <th>30</th>\n",
       "      <td>Braunschweig</td>\n",
       "      <td>37</td>\n",
       "      <td>10</td>\n",
       "      <td>9</td>\n",
       "    </tr>\n",
       "    <tr>\n",
       "      <th>31</th>\n",
       "      <td>Blackburn</td>\n",
       "      <td>48</td>\n",
       "      <td>8</td>\n",
       "      <td>23</td>\n",
       "    </tr>\n",
       "    <tr>\n",
       "      <th>32</th>\n",
       "      <td>Erzgebirge Aue</td>\n",
       "      <td>31</td>\n",
       "      <td>8</td>\n",
       "      <td>15</td>\n",
       "    </tr>\n",
       "    <tr>\n",
       "      <th>33</th>\n",
       "      <td>Paderborn</td>\n",
       "      <td>51</td>\n",
       "      <td>17</td>\n",
       "      <td>7</td>\n",
       "    </tr>\n",
       "    <tr>\n",
       "      <th>34</th>\n",
       "      <td>Union Berlin</td>\n",
       "      <td>55</td>\n",
       "      <td>14</td>\n",
       "      <td>14</td>\n",
       "    </tr>\n",
       "    <tr>\n",
       "      <th>35</th>\n",
       "      <td>Chelsea</td>\n",
       "      <td>65</td>\n",
       "      <td>18</td>\n",
       "      <td>10</td>\n",
       "    </tr>\n",
       "    <tr>\n",
       "      <th>36</th>\n",
       "      <td>Liverpool</td>\n",
       "      <td>47</td>\n",
       "      <td>14</td>\n",
       "      <td>14</td>\n",
       "    </tr>\n",
       "    <tr>\n",
       "      <th>37</th>\n",
       "      <td>Stoke</td>\n",
       "      <td>36</td>\n",
       "      <td>11</td>\n",
       "      <td>15</td>\n",
       "    </tr>\n",
       "    <tr>\n",
       "      <th>38</th>\n",
       "      <td>Newcastle</td>\n",
       "      <td>56</td>\n",
       "      <td>19</td>\n",
       "      <td>11</td>\n",
       "    </tr>\n",
       "    <tr>\n",
       "      <th>39</th>\n",
       "      <td>Aston Villa</td>\n",
       "      <td>37</td>\n",
       "      <td>7</td>\n",
       "      <td>14</td>\n",
       "    </tr>\n",
       "    <tr>\n",
       "      <th>40</th>\n",
       "      <td>Greuther Furth</td>\n",
       "      <td>73</td>\n",
       "      <td>20</td>\n",
       "      <td>4</td>\n",
       "    </tr>\n",
       "    <tr>\n",
       "      <th>41</th>\n",
       "      <td>M'gladbach</td>\n",
       "      <td>49</td>\n",
       "      <td>17</td>\n",
       "      <td>8</td>\n",
       "    </tr>\n",
       "    <tr>\n",
       "      <th>42</th>\n",
       "      <td>Bayern Munich</td>\n",
       "      <td>77</td>\n",
       "      <td>23</td>\n",
       "      <td>7</td>\n",
       "    </tr>\n",
       "    <tr>\n",
       "      <th>43</th>\n",
       "      <td>Fulham</td>\n",
       "      <td>48</td>\n",
       "      <td>14</td>\n",
       "      <td>14</td>\n",
       "    </tr>\n",
       "    <tr>\n",
       "      <th>44</th>\n",
       "      <td>Wigan</td>\n",
       "      <td>42</td>\n",
       "      <td>11</td>\n",
       "      <td>17</td>\n",
       "    </tr>\n",
       "    <tr>\n",
       "      <th>45</th>\n",
       "      <td>Dortmund</td>\n",
       "      <td>80</td>\n",
       "      <td>25</td>\n",
       "      <td>3</td>\n",
       "    </tr>\n",
       "    <tr>\n",
       "      <th>46</th>\n",
       "      <td>Man City</td>\n",
       "      <td>93</td>\n",
       "      <td>28</td>\n",
       "      <td>5</td>\n",
       "    </tr>\n",
       "    <tr>\n",
       "      <th>47</th>\n",
       "      <td>Ein Frankfurt</td>\n",
       "      <td>76</td>\n",
       "      <td>20</td>\n",
       "      <td>6</td>\n",
       "    </tr>\n",
       "    <tr>\n",
       "      <th>48</th>\n",
       "      <td>Leverkusen</td>\n",
       "      <td>52</td>\n",
       "      <td>15</td>\n",
       "      <td>10</td>\n",
       "    </tr>\n",
       "    <tr>\n",
       "      <th>49</th>\n",
       "      <td>Kaiserslautern</td>\n",
       "      <td>24</td>\n",
       "      <td>4</td>\n",
       "      <td>19</td>\n",
       "    </tr>\n",
       "    <tr>\n",
       "      <th>50</th>\n",
       "      <td>Duisburg</td>\n",
       "      <td>42</td>\n",
       "      <td>10</td>\n",
       "      <td>15</td>\n",
       "    </tr>\n",
       "    <tr>\n",
       "      <th>51</th>\n",
       "      <td>Bolton</td>\n",
       "      <td>46</td>\n",
       "      <td>10</td>\n",
       "      <td>22</td>\n",
       "    </tr>\n",
       "    <tr>\n",
       "      <th>52</th>\n",
       "      <td>Man United</td>\n",
       "      <td>89</td>\n",
       "      <td>28</td>\n",
       "      <td>5</td>\n",
       "    </tr>\n",
       "    <tr>\n",
       "      <th>53</th>\n",
       "      <td>Swansea</td>\n",
       "      <td>44</td>\n",
       "      <td>12</td>\n",
       "      <td>15</td>\n",
       "    </tr>\n",
       "    <tr>\n",
       "      <th>54</th>\n",
       "      <td>Nurnberg</td>\n",
       "      <td>38</td>\n",
       "      <td>12</td>\n",
       "      <td>16</td>\n",
       "    </tr>\n",
       "    <tr>\n",
       "      <th>55</th>\n",
       "      <td>Werder Bremen</td>\n",
       "      <td>49</td>\n",
       "      <td>11</td>\n",
       "      <td>14</td>\n",
       "    </tr>\n",
       "  </tbody>\n",
       "</table>\n",
       "</div>"
      ],
      "text/plain": [
       "              TeamName Goals Wins Losses\n",
       "0             St Pauli    59   18      8\n",
       "1             Freiburg    45   10     14\n",
       "2   Fortuna Dusseldorf    64   16      4\n",
       "3        Hansa Rostock    34    5     17\n",
       "4            Stuttgart    63   15     11\n",
       "5            West Brom    45   13     17\n",
       "6           Ingolstadt    43    8     13\n",
       "7        Frankfurt FSV    43    7     13\n",
       "8                Mainz    47    9     13\n",
       "9              Everton    50   15     12\n",
       "10              Wolves    40    5     23\n",
       "11           Wolfsburg    47   13     16\n",
       "12             Norwich    52   12     15\n",
       "13          Schalke 04    74   20     10\n",
       "14             Hamburg    35    8     14\n",
       "15            Augsburg    36    8     12\n",
       "16              Bochum    41   10     17\n",
       "17           Tottenham    66   20      9\n",
       "18           Karlsruhe    34    9     19\n",
       "19              Hertha    38    7     17\n",
       "20             Arsenal    74   21     10\n",
       "21                 QPR    43   10     21\n",
       "22          Sunderland    45   11     15\n",
       "23          Hoffenheim    41   10     13\n",
       "24             FC Koln    39    8     20\n",
       "25             Dresden    50   12     13\n",
       "26             Cottbus    30    8     15\n",
       "27         Munich 1860    62   17     11\n",
       "28              Aachen    30    6     15\n",
       "29            Hannover    41   12     10\n",
       "30        Braunschweig    37   10      9\n",
       "31           Blackburn    48    8     23\n",
       "32      Erzgebirge Aue    31    8     15\n",
       "33           Paderborn    51   17      7\n",
       "34        Union Berlin    55   14     14\n",
       "35             Chelsea    65   18     10\n",
       "36           Liverpool    47   14     14\n",
       "37               Stoke    36   11     15\n",
       "38           Newcastle    56   19     11\n",
       "39         Aston Villa    37    7     14\n",
       "40      Greuther Furth    73   20      4\n",
       "41          M'gladbach    49   17      8\n",
       "42       Bayern Munich    77   23      7\n",
       "43              Fulham    48   14     14\n",
       "44               Wigan    42   11     17\n",
       "45            Dortmund    80   25      3\n",
       "46            Man City    93   28      5\n",
       "47       Ein Frankfurt    76   20      6\n",
       "48          Leverkusen    52   15     10\n",
       "49      Kaiserslautern    24    4     19\n",
       "50            Duisburg    42   10     15\n",
       "51              Bolton    46   10     22\n",
       "52          Man United    89   28      5\n",
       "53             Swansea    44   12     15\n",
       "54            Nurnberg    38   12     16\n",
       "55       Werder Bremen    49   11     14"
      ]
     },
     "execution_count": 12,
     "metadata": {},
     "output_type": "execute_result"
    }
   ],
   "source": [
    "season2011=pd.DataFrame([teams,goals_for_each_team,wins_for_each_team,loss_for_each_team]).transpose()\n",
    "season2011.columns=['TeamName','Goals','Wins','Losses']\n",
    "season2011"
   ]
  },
  {
   "cell_type": "markdown",
   "metadata": {},
   "source": [
    "#### Figuring out how to use the API to get weather for one given date in Berlin"
   ]
  },
  {
   "cell_type": "code",
   "execution_count": 13,
   "metadata": {},
   "outputs": [
    {
     "name": "stdout",
     "output_type": "stream",
     "text": [
      "1333152000\n",
      "https://api.darksky.net/forecast/1093945323815b63c28ffceabfbd9c50/52.52,13.405,1333152000\n"
     ]
    },
    {
     "data": {
      "text/plain": [
       "200"
      ]
     },
     "execution_count": 13,
     "metadata": {},
     "output_type": "execute_result"
    }
   ],
   "source": [
    "def get_keys(path):\n",
    "    with open(path) as f:\n",
    "        return json.load(f)\n",
    "    \n",
    "latitude=\"52.52\"\n",
    "longitude=\"13.405\"\n",
    "datetime_std=pd.to_datetime(soccer.Date[0])\n",
    "datetime_unix = int(datetime_std.timestamp())\n",
    "print(datetime_unix)\n",
    "keys = get_keys(\"/Users/alvar/.secret/darksky_api.json\")\n",
    "api_key = keys['api_key']\n",
    "url=\"https://api.darksky.net/forecast/{}/{},{},{}\".format(api_key,latitude,longitude,datetime_unix)\n",
    "\n",
    "print(url)\n",
    "resp=requests.get(url)\n",
    "resp.status_code"
   ]
  },
  {
   "cell_type": "code",
   "execution_count": 14,
   "metadata": {
    "scrolled": true
   },
   "outputs": [
    {
     "data": {
      "text/plain": [
       "dict_keys(['latitude', 'longitude', 'timezone', 'currently', 'hourly', 'daily', 'flags', 'offset'])"
      ]
     },
     "execution_count": 14,
     "metadata": {},
     "output_type": "execute_result"
    }
   ],
   "source": [
    "resp.json().keys()"
   ]
  },
  {
   "cell_type": "code",
   "execution_count": 15,
   "metadata": {},
   "outputs": [
    {
     "data": {
      "text/plain": [
       "'Mostly Cloudy'"
      ]
     },
     "execution_count": 15,
     "metadata": {},
     "output_type": "execute_result"
    }
   ],
   "source": [
    "resp.json()['currently']['summary']"
   ]
  },
  {
   "cell_type": "code",
   "execution_count": 16,
   "metadata": {},
   "outputs": [],
   "source": [
    "class WeatherGetter(object):\n",
    "    def __init__(self,lat=None,long=None,location=None):\n",
    "        self.location=\"Berlin\"\n",
    "        self.lat=52.52\n",
    "        self.long=13.405\n",
    "        return\n",
    "    \n",
    "    def get_keys(self,path):\n",
    "        with open(path) as f:\n",
    "            return json.load(f)\n",
    "    \n",
    "    def convert_to_date_time(self,string):\n",
    "        datetime_std=pd.to_datetime(string)\n",
    "        datetime_unix = int(datetime_std.timestamp())\n",
    "        return datetime_unix\n",
    "    \n",
    "    def get_weather(self,datetime):\n",
    "        keys = get_keys(\"/Users/alvar/.secret/darksky_api.json\")\n",
    "        api_key = keys['api_key']\n",
    "        latitude=self.lat\n",
    "        longitude=self.long\n",
    "        time=self.convert_to_date_time(datetime)\n",
    "        url=f\"https://api.darksky.net/forecast/{api_key}/{latitude},{longitude},{time}\"    \n",
    "        resp=requests.get(url)\n",
    "        weather=resp.json()['currently']['summary']\n",
    "        return weather\n",
    "    \n",
    "    def get_all_weather(self,list_of_dates):\n",
    "        weather=[]\n",
    "        latitude=self.lat\n",
    "        longitude=self.long\n",
    "        for i in range(len(list_of_dates)):\n",
    "            new_weather=self.get_weather(list_of_dates[i])\n",
    "            weather.append(new_weather)\n",
    "            time.sleep(1)\n",
    "        return weather          "
   ]
  },
  {
   "cell_type": "markdown",
   "metadata": {},
   "source": [
    "#### Testing out the WeatherGetter class"
   ]
  },
  {
   "cell_type": "code",
   "execution_count": 17,
   "metadata": {},
   "outputs": [],
   "source": [
    "season2011_weather=WeatherGetter()"
   ]
  },
  {
   "cell_type": "code",
   "execution_count": 18,
   "metadata": {},
   "outputs": [
    {
     "data": {
      "text/plain": [
       "'Berlin'"
      ]
     },
     "execution_count": 18,
     "metadata": {},
     "output_type": "execute_result"
    }
   ],
   "source": [
    "season2011_weather.location"
   ]
  },
  {
   "cell_type": "code",
   "execution_count": 19,
   "metadata": {
    "scrolled": true
   },
   "outputs": [
    {
     "data": {
      "text/plain": [
       "'Mostly Cloudy'"
      ]
     },
     "execution_count": 19,
     "metadata": {},
     "output_type": "execute_result"
    }
   ],
   "source": [
    "season2011_weather.get_weather(soccer.Date[0])"
   ]
  },
  {
   "cell_type": "markdown",
   "metadata": {},
   "source": [
    "#### Getting all the weather for the 2011 matches"
   ]
  },
  {
   "cell_type": "code",
   "execution_count": 20,
   "metadata": {},
   "outputs": [
    {
     "name": "stdout",
     "output_type": "stream",
     "text": [
      "165\n"
     ]
    }
   ],
   "source": [
    "list_of_dates=list(set(soccer.Date))\n",
    "print(len(list_of_dates))"
   ]
  },
  {
   "cell_type": "code",
   "execution_count": 21,
   "metadata": {
    "scrolled": false
   },
   "outputs": [],
   "source": [
    "weather_list=season2011_weather.get_all_weather(list_of_dates)"
   ]
  },
  {
   "cell_type": "code",
   "execution_count": 22,
   "metadata": {
    "scrolled": true
   },
   "outputs": [
    {
     "data": {
      "text/html": [
       "<div>\n",
       "<style scoped>\n",
       "    .dataframe tbody tr th:only-of-type {\n",
       "        vertical-align: middle;\n",
       "    }\n",
       "\n",
       "    .dataframe tbody tr th {\n",
       "        vertical-align: top;\n",
       "    }\n",
       "\n",
       "    .dataframe thead th {\n",
       "        text-align: right;\n",
       "    }\n",
       "</style>\n",
       "<table border=\"1\" class=\"dataframe\">\n",
       "  <thead>\n",
       "    <tr style=\"text-align: right;\">\n",
       "      <th></th>\n",
       "      <th>Match_ID</th>\n",
       "      <th>Div</th>\n",
       "      <th>Season</th>\n",
       "      <th>Date</th>\n",
       "      <th>HomeTeam</th>\n",
       "      <th>AwayTeam</th>\n",
       "      <th>FTHG</th>\n",
       "      <th>FTAG</th>\n",
       "      <th>FTR</th>\n",
       "      <th>Weather</th>\n",
       "    </tr>\n",
       "  </thead>\n",
       "  <tbody>\n",
       "    <tr>\n",
       "      <th>0</th>\n",
       "      <td>1092</td>\n",
       "      <td>D1</td>\n",
       "      <td>2011</td>\n",
       "      <td>2012-03-31</td>\n",
       "      <td>Nurnberg</td>\n",
       "      <td>Bayern Munich</td>\n",
       "      <td>0</td>\n",
       "      <td>1</td>\n",
       "      <td>A</td>\n",
       "      <td>Mostly Cloudy</td>\n",
       "    </tr>\n",
       "    <tr>\n",
       "      <th>1</th>\n",
       "      <td>1093</td>\n",
       "      <td>D1</td>\n",
       "      <td>2011</td>\n",
       "      <td>2011-12-11</td>\n",
       "      <td>Stuttgart</td>\n",
       "      <td>Bayern Munich</td>\n",
       "      <td>1</td>\n",
       "      <td>2</td>\n",
       "      <td>A</td>\n",
       "      <td>Mostly Cloudy</td>\n",
       "    </tr>\n",
       "    <tr>\n",
       "      <th>2</th>\n",
       "      <td>1094</td>\n",
       "      <td>D1</td>\n",
       "      <td>2011</td>\n",
       "      <td>2011-08-13</td>\n",
       "      <td>Wolfsburg</td>\n",
       "      <td>Bayern Munich</td>\n",
       "      <td>0</td>\n",
       "      <td>1</td>\n",
       "      <td>A</td>\n",
       "      <td>Mostly Cloudy</td>\n",
       "    </tr>\n",
       "    <tr>\n",
       "      <th>3</th>\n",
       "      <td>1095</td>\n",
       "      <td>D1</td>\n",
       "      <td>2011</td>\n",
       "      <td>2011-11-27</td>\n",
       "      <td>Mainz</td>\n",
       "      <td>Bayern Munich</td>\n",
       "      <td>3</td>\n",
       "      <td>2</td>\n",
       "      <td>H</td>\n",
       "      <td>Mostly Cloudy</td>\n",
       "    </tr>\n",
       "    <tr>\n",
       "      <th>4</th>\n",
       "      <td>1096</td>\n",
       "      <td>D1</td>\n",
       "      <td>2011</td>\n",
       "      <td>2012-02-18</td>\n",
       "      <td>Freiburg</td>\n",
       "      <td>Bayern Munich</td>\n",
       "      <td>0</td>\n",
       "      <td>0</td>\n",
       "      <td>D</td>\n",
       "      <td>Mostly Cloudy</td>\n",
       "    </tr>\n",
       "    <tr>\n",
       "      <th>5</th>\n",
       "      <td>1097</td>\n",
       "      <td>D1</td>\n",
       "      <td>2011</td>\n",
       "      <td>2012-01-20</td>\n",
       "      <td>M'gladbach</td>\n",
       "      <td>Bayern Munich</td>\n",
       "      <td>3</td>\n",
       "      <td>1</td>\n",
       "      <td>H</td>\n",
       "      <td>Partly Cloudy</td>\n",
       "    </tr>\n",
       "    <tr>\n",
       "      <th>6</th>\n",
       "      <td>1098</td>\n",
       "      <td>D1</td>\n",
       "      <td>2011</td>\n",
       "      <td>2012-02-04</td>\n",
       "      <td>Hamburg</td>\n",
       "      <td>Bayern Munich</td>\n",
       "      <td>1</td>\n",
       "      <td>1</td>\n",
       "      <td>D</td>\n",
       "      <td>Partly Cloudy</td>\n",
       "    </tr>\n",
       "    <tr>\n",
       "      <th>7</th>\n",
       "      <td>1099</td>\n",
       "      <td>D1</td>\n",
       "      <td>2011</td>\n",
       "      <td>2012-04-21</td>\n",
       "      <td>Werder Bremen</td>\n",
       "      <td>Bayern Munich</td>\n",
       "      <td>1</td>\n",
       "      <td>2</td>\n",
       "      <td>A</td>\n",
       "      <td>Clear</td>\n",
       "    </tr>\n",
       "    <tr>\n",
       "      <th>8</th>\n",
       "      <td>1100</td>\n",
       "      <td>D1</td>\n",
       "      <td>2011</td>\n",
       "      <td>2011-09-18</td>\n",
       "      <td>Schalke 04</td>\n",
       "      <td>Bayern Munich</td>\n",
       "      <td>0</td>\n",
       "      <td>2</td>\n",
       "      <td>A</td>\n",
       "      <td>Possible Light Rain</td>\n",
       "    </tr>\n",
       "    <tr>\n",
       "      <th>9</th>\n",
       "      <td>1101</td>\n",
       "      <td>D1</td>\n",
       "      <td>2011</td>\n",
       "      <td>2011-10-23</td>\n",
       "      <td>Hannover</td>\n",
       "      <td>Bayern Munich</td>\n",
       "      <td>2</td>\n",
       "      <td>1</td>\n",
       "      <td>H</td>\n",
       "      <td>Clear</td>\n",
       "    </tr>\n",
       "  </tbody>\n",
       "</table>\n",
       "</div>"
      ],
      "text/plain": [
       "   Match_ID Div  Season        Date       HomeTeam       AwayTeam  FTHG  FTAG  \\\n",
       "0      1092  D1    2011  2012-03-31       Nurnberg  Bayern Munich     0     1   \n",
       "1      1093  D1    2011  2011-12-11      Stuttgart  Bayern Munich     1     2   \n",
       "2      1094  D1    2011  2011-08-13      Wolfsburg  Bayern Munich     0     1   \n",
       "3      1095  D1    2011  2011-11-27          Mainz  Bayern Munich     3     2   \n",
       "4      1096  D1    2011  2012-02-18       Freiburg  Bayern Munich     0     0   \n",
       "5      1097  D1    2011  2012-01-20     M'gladbach  Bayern Munich     3     1   \n",
       "6      1098  D1    2011  2012-02-04        Hamburg  Bayern Munich     1     1   \n",
       "7      1099  D1    2011  2012-04-21  Werder Bremen  Bayern Munich     1     2   \n",
       "8      1100  D1    2011  2011-09-18     Schalke 04  Bayern Munich     0     2   \n",
       "9      1101  D1    2011  2011-10-23       Hannover  Bayern Munich     2     1   \n",
       "\n",
       "  FTR              Weather  \n",
       "0   A        Mostly Cloudy  \n",
       "1   A        Mostly Cloudy  \n",
       "2   A        Mostly Cloudy  \n",
       "3   H        Mostly Cloudy  \n",
       "4   D        Mostly Cloudy  \n",
       "5   H        Partly Cloudy  \n",
       "6   D        Partly Cloudy  \n",
       "7   A                Clear  \n",
       "8   A  Possible Light Rain  \n",
       "9   H                Clear  "
      ]
     },
     "execution_count": 22,
     "metadata": {},
     "output_type": "execute_result"
    }
   ],
   "source": [
    "weather_and_dates=list(zip(list_of_dates,weather_list))\n",
    "for i in range(len(weather_and_dates)):\n",
    "    soccer.loc[soccer['Date']==weather_and_dates[i][0],'Weather']=weather_and_dates[i][1]\n",
    "soccer.head(10)"
   ]
  },
  {
   "cell_type": "code",
   "execution_count": 23,
   "metadata": {
    "scrolled": false
   },
   "outputs": [
    {
     "data": {
      "text/html": [
       "<div>\n",
       "<style scoped>\n",
       "    .dataframe tbody tr th:only-of-type {\n",
       "        vertical-align: middle;\n",
       "    }\n",
       "\n",
       "    .dataframe tbody tr th {\n",
       "        vertical-align: top;\n",
       "    }\n",
       "\n",
       "    .dataframe thead th {\n",
       "        text-align: right;\n",
       "    }\n",
       "</style>\n",
       "<table border=\"1\" class=\"dataframe\">\n",
       "  <thead>\n",
       "    <tr style=\"text-align: right;\">\n",
       "      <th></th>\n",
       "      <th>Match_ID</th>\n",
       "      <th>Div</th>\n",
       "      <th>Season</th>\n",
       "      <th>Date</th>\n",
       "      <th>HomeTeam</th>\n",
       "      <th>AwayTeam</th>\n",
       "      <th>FTHG</th>\n",
       "      <th>FTAG</th>\n",
       "      <th>FTR</th>\n",
       "      <th>Weather</th>\n",
       "    </tr>\n",
       "  </thead>\n",
       "  <tbody>\n",
       "    <tr>\n",
       "      <th>0</th>\n",
       "      <td>1092</td>\n",
       "      <td>D1</td>\n",
       "      <td>2011</td>\n",
       "      <td>2012-03-31</td>\n",
       "      <td>Nurnberg</td>\n",
       "      <td>Bayern Munich</td>\n",
       "      <td>0</td>\n",
       "      <td>1</td>\n",
       "      <td>A</td>\n",
       "      <td>Mostly Cloudy</td>\n",
       "    </tr>\n",
       "    <tr>\n",
       "      <th>97</th>\n",
       "      <td>1189</td>\n",
       "      <td>D1</td>\n",
       "      <td>2011</td>\n",
       "      <td>2012-03-31</td>\n",
       "      <td>Augsburg</td>\n",
       "      <td>FC Koln</td>\n",
       "      <td>2</td>\n",
       "      <td>1</td>\n",
       "      <td>H</td>\n",
       "      <td>Mostly Cloudy</td>\n",
       "    </tr>\n",
       "    <tr>\n",
       "      <th>114</th>\n",
       "      <td>1206</td>\n",
       "      <td>D1</td>\n",
       "      <td>2011</td>\n",
       "      <td>2012-03-31</td>\n",
       "      <td>Leverkusen</td>\n",
       "      <td>Freiburg</td>\n",
       "      <td>0</td>\n",
       "      <td>2</td>\n",
       "      <td>A</td>\n",
       "      <td>Mostly Cloudy</td>\n",
       "    </tr>\n",
       "    <tr>\n",
       "      <th>123</th>\n",
       "      <td>1215</td>\n",
       "      <td>D1</td>\n",
       "      <td>2011</td>\n",
       "      <td>2012-03-31</td>\n",
       "      <td>Kaiserslautern</td>\n",
       "      <td>Hamburg</td>\n",
       "      <td>0</td>\n",
       "      <td>1</td>\n",
       "      <td>A</td>\n",
       "      <td>Mostly Cloudy</td>\n",
       "    </tr>\n",
       "    <tr>\n",
       "      <th>304</th>\n",
       "      <td>1396</td>\n",
       "      <td>D2</td>\n",
       "      <td>2011</td>\n",
       "      <td>2012-03-31</td>\n",
       "      <td>Munich 1860</td>\n",
       "      <td>Hansa Rostock</td>\n",
       "      <td>0</td>\n",
       "      <td>1</td>\n",
       "      <td>A</td>\n",
       "      <td>Mostly Cloudy</td>\n",
       "    </tr>\n",
       "    <tr>\n",
       "      <th>328</th>\n",
       "      <td>1420</td>\n",
       "      <td>D1</td>\n",
       "      <td>2011</td>\n",
       "      <td>2012-03-31</td>\n",
       "      <td>Werder Bremen</td>\n",
       "      <td>Mainz</td>\n",
       "      <td>0</td>\n",
       "      <td>3</td>\n",
       "      <td>A</td>\n",
       "      <td>Mostly Cloudy</td>\n",
       "    </tr>\n",
       "    <tr>\n",
       "      <th>383</th>\n",
       "      <td>1475</td>\n",
       "      <td>D1</td>\n",
       "      <td>2011</td>\n",
       "      <td>2012-03-31</td>\n",
       "      <td>Hertha</td>\n",
       "      <td>Wolfsburg</td>\n",
       "      <td>1</td>\n",
       "      <td>4</td>\n",
       "      <td>A</td>\n",
       "      <td>Mostly Cloudy</td>\n",
       "    </tr>\n",
       "    <tr>\n",
       "      <th>432</th>\n",
       "      <td>1524</td>\n",
       "      <td>D2</td>\n",
       "      <td>2011</td>\n",
       "      <td>2012-03-31</td>\n",
       "      <td>Erzgebirge Aue</td>\n",
       "      <td>Greuther Furth</td>\n",
       "      <td>1</td>\n",
       "      <td>1</td>\n",
       "      <td>D</td>\n",
       "      <td>Mostly Cloudy</td>\n",
       "    </tr>\n",
       "    <tr>\n",
       "      <th>911</th>\n",
       "      <td>44794</td>\n",
       "      <td>E0</td>\n",
       "      <td>2011</td>\n",
       "      <td>2012-03-31</td>\n",
       "      <td>Aston Villa</td>\n",
       "      <td>Chelsea</td>\n",
       "      <td>2</td>\n",
       "      <td>4</td>\n",
       "      <td>A</td>\n",
       "      <td>Mostly Cloudy</td>\n",
       "    </tr>\n",
       "    <tr>\n",
       "      <th>912</th>\n",
       "      <td>44795</td>\n",
       "      <td>E0</td>\n",
       "      <td>2011</td>\n",
       "      <td>2012-03-31</td>\n",
       "      <td>Everton</td>\n",
       "      <td>West Brom</td>\n",
       "      <td>2</td>\n",
       "      <td>0</td>\n",
       "      <td>H</td>\n",
       "      <td>Mostly Cloudy</td>\n",
       "    </tr>\n",
       "    <tr>\n",
       "      <th>913</th>\n",
       "      <td>44796</td>\n",
       "      <td>E0</td>\n",
       "      <td>2011</td>\n",
       "      <td>2012-03-31</td>\n",
       "      <td>Fulham</td>\n",
       "      <td>Norwich</td>\n",
       "      <td>2</td>\n",
       "      <td>1</td>\n",
       "      <td>H</td>\n",
       "      <td>Mostly Cloudy</td>\n",
       "    </tr>\n",
       "    <tr>\n",
       "      <th>914</th>\n",
       "      <td>44797</td>\n",
       "      <td>E0</td>\n",
       "      <td>2011</td>\n",
       "      <td>2012-03-31</td>\n",
       "      <td>Man City</td>\n",
       "      <td>Sunderland</td>\n",
       "      <td>3</td>\n",
       "      <td>3</td>\n",
       "      <td>D</td>\n",
       "      <td>Mostly Cloudy</td>\n",
       "    </tr>\n",
       "    <tr>\n",
       "      <th>915</th>\n",
       "      <td>44798</td>\n",
       "      <td>E0</td>\n",
       "      <td>2011</td>\n",
       "      <td>2012-03-31</td>\n",
       "      <td>QPR</td>\n",
       "      <td>Arsenal</td>\n",
       "      <td>2</td>\n",
       "      <td>1</td>\n",
       "      <td>H</td>\n",
       "      <td>Mostly Cloudy</td>\n",
       "    </tr>\n",
       "    <tr>\n",
       "      <th>916</th>\n",
       "      <td>44799</td>\n",
       "      <td>E0</td>\n",
       "      <td>2011</td>\n",
       "      <td>2012-03-31</td>\n",
       "      <td>Wigan</td>\n",
       "      <td>Stoke</td>\n",
       "      <td>2</td>\n",
       "      <td>0</td>\n",
       "      <td>H</td>\n",
       "      <td>Mostly Cloudy</td>\n",
       "    </tr>\n",
       "    <tr>\n",
       "      <th>917</th>\n",
       "      <td>44800</td>\n",
       "      <td>E0</td>\n",
       "      <td>2011</td>\n",
       "      <td>2012-03-31</td>\n",
       "      <td>Wolves</td>\n",
       "      <td>Bolton</td>\n",
       "      <td>2</td>\n",
       "      <td>3</td>\n",
       "      <td>A</td>\n",
       "      <td>Mostly Cloudy</td>\n",
       "    </tr>\n",
       "  </tbody>\n",
       "</table>\n",
       "</div>"
      ],
      "text/plain": [
       "     Match_ID Div  Season        Date        HomeTeam        AwayTeam  FTHG  \\\n",
       "0        1092  D1    2011  2012-03-31        Nurnberg   Bayern Munich     0   \n",
       "97       1189  D1    2011  2012-03-31        Augsburg         FC Koln     2   \n",
       "114      1206  D1    2011  2012-03-31      Leverkusen        Freiburg     0   \n",
       "123      1215  D1    2011  2012-03-31  Kaiserslautern         Hamburg     0   \n",
       "304      1396  D2    2011  2012-03-31     Munich 1860   Hansa Rostock     0   \n",
       "328      1420  D1    2011  2012-03-31   Werder Bremen           Mainz     0   \n",
       "383      1475  D1    2011  2012-03-31          Hertha       Wolfsburg     1   \n",
       "432      1524  D2    2011  2012-03-31  Erzgebirge Aue  Greuther Furth     1   \n",
       "911     44794  E0    2011  2012-03-31     Aston Villa         Chelsea     2   \n",
       "912     44795  E0    2011  2012-03-31         Everton       West Brom     2   \n",
       "913     44796  E0    2011  2012-03-31          Fulham         Norwich     2   \n",
       "914     44797  E0    2011  2012-03-31        Man City      Sunderland     3   \n",
       "915     44798  E0    2011  2012-03-31             QPR         Arsenal     2   \n",
       "916     44799  E0    2011  2012-03-31           Wigan           Stoke     2   \n",
       "917     44800  E0    2011  2012-03-31          Wolves          Bolton     2   \n",
       "\n",
       "     FTAG FTR        Weather  \n",
       "0       1   A  Mostly Cloudy  \n",
       "97      1   H  Mostly Cloudy  \n",
       "114     2   A  Mostly Cloudy  \n",
       "123     1   A  Mostly Cloudy  \n",
       "304     1   A  Mostly Cloudy  \n",
       "328     3   A  Mostly Cloudy  \n",
       "383     4   A  Mostly Cloudy  \n",
       "432     1   D  Mostly Cloudy  \n",
       "911     4   A  Mostly Cloudy  \n",
       "912     0   H  Mostly Cloudy  \n",
       "913     1   H  Mostly Cloudy  \n",
       "914     3   D  Mostly Cloudy  \n",
       "915     1   H  Mostly Cloudy  \n",
       "916     0   H  Mostly Cloudy  \n",
       "917     3   A  Mostly Cloudy  "
      ]
     },
     "execution_count": 23,
     "metadata": {},
     "output_type": "execute_result"
    }
   ],
   "source": [
    "soccer.loc[soccer.Date==\"2012-03-31\"]"
   ]
  },
  {
   "cell_type": "code",
   "execution_count": 24,
   "metadata": {
    "scrolled": true
   },
   "outputs": [
    {
     "data": {
      "text/plain": [
       "Clear                  496\n",
       "Mostly Cloudy          324\n",
       "Partly Cloudy           66\n",
       "Possible Light Rain     35\n",
       "Foggy                   26\n",
       "Light Rain              17\n",
       "Overcast                14\n",
       "Possible Drizzle        12\n",
       "Rain                     2\n",
       "Name: Weather, dtype: int64"
      ]
     },
     "execution_count": 24,
     "metadata": {},
     "output_type": "execute_result"
    }
   ],
   "source": [
    "soccer.Weather.value_counts()"
   ]
  },
  {
   "cell_type": "code",
   "execution_count": 25,
   "metadata": {},
   "outputs": [],
   "source": [
    "rain=['Possible Light Rain','Light Rain','Possible Drizzle','Rain']\n",
    "soccer['Rainy Games']=soccer.Weather.isin(rain)\n",
    "\n",
    "def rainy_wins(team,dataframe):\n",
    "    rainy_wins=0\n",
    "    rainy_games=0\n",
    "    for i in range(len(dataframe)):\n",
    "        if dataframe['FTR'][i]=='A' and dataframe['AwayTeam'][i]==team and dataframe['Rainy Games'][i]==True:\n",
    "            rainy_wins+=1\n",
    "            rainy_games+=1\n",
    "        elif dataframe['FTR'][i]=='H' and dataframe['HomeTeam'][i]==team and dataframe['Rainy Games'][i]==True:\n",
    "            rainy_wins+=1\n",
    "            rainy_games+=1\n",
    "        elif dataframe['AwayTeam'][i]==team or dataframe['HomeTeam'][i]==team and dataframe['Rainy Games'][i]==True:\n",
    "            rainy_games+=1\n",
    "        else:\n",
    "            pass\n",
    "    return rainy_wins,rainy_games"
   ]
  },
  {
   "cell_type": "code",
   "execution_count": 26,
   "metadata": {},
   "outputs": [
    {
     "data": {
      "text/plain": [
       "(3, 19)"
      ]
     },
     "execution_count": 26,
     "metadata": {},
     "output_type": "execute_result"
    }
   ],
   "source": [
    "rainy_wins(teams[0],soccer)"
   ]
  },
  {
   "cell_type": "code",
   "execution_count": 27,
   "metadata": {},
   "outputs": [],
   "source": [
    "rainy_win_counts=[]\n",
    "rainy_games_counts=[]\n",
    "for i in range(len(teams)):\n",
    "    rainy_win_counts.append(rainy_wins(teams[i],soccer)[0])\n",
    "    rainy_games_counts.append(rainy_wins(teams[i],soccer)[1])"
   ]
  },
  {
   "cell_type": "code",
   "execution_count": 28,
   "metadata": {
    "scrolled": true
   },
   "outputs": [
    {
     "data": {
      "text/plain": [
       "[19,\n",
       " 18,\n",
       " 20,\n",
       " 18,\n",
       " 17,\n",
       " 19,\n",
       " 18,\n",
       " 19,\n",
       " 17,\n",
       " 21,\n",
       " 22,\n",
       " 18,\n",
       " 19,\n",
       " 19,\n",
       " 18,\n",
       " 17,\n",
       " 19,\n",
       " 20,\n",
       " 20,\n",
       " 18,\n",
       " 19,\n",
       " 22,\n",
       " 20,\n",
       " 18,\n",
       " 17,\n",
       " 18,\n",
       " 18,\n",
       " 21,\n",
       " 18,\n",
       " 18,\n",
       " 18,\n",
       " 21,\n",
       " 18,\n",
       " 18,\n",
       " 19,\n",
       " 19,\n",
       " 20,\n",
       " 19,\n",
       " 22,\n",
       " 21,\n",
       " 17,\n",
       " 17,\n",
       " 17,\n",
       " 23,\n",
       " 20,\n",
       " 18,\n",
       " 20,\n",
       " 18,\n",
       " 18,\n",
       " 17,\n",
       " 19,\n",
       " 20,\n",
       " 21,\n",
       " 19,\n",
       " 17,\n",
       " 17]"
      ]
     },
     "execution_count": 28,
     "metadata": {},
     "output_type": "execute_result"
    }
   ],
   "source": [
    "rainy_games_counts"
   ]
  },
  {
   "cell_type": "code",
   "execution_count": 29,
   "metadata": {
    "scrolled": true
   },
   "outputs": [
    {
     "data": {
      "text/html": [
       "<div>\n",
       "<style scoped>\n",
       "    .dataframe tbody tr th:only-of-type {\n",
       "        vertical-align: middle;\n",
       "    }\n",
       "\n",
       "    .dataframe tbody tr th {\n",
       "        vertical-align: top;\n",
       "    }\n",
       "\n",
       "    .dataframe thead th {\n",
       "        text-align: right;\n",
       "    }\n",
       "</style>\n",
       "<table border=\"1\" class=\"dataframe\">\n",
       "  <thead>\n",
       "    <tr style=\"text-align: right;\">\n",
       "      <th></th>\n",
       "      <th>TeamName</th>\n",
       "      <th>Goals</th>\n",
       "      <th>Wins</th>\n",
       "      <th>Losses</th>\n",
       "      <th>Rainy Wins</th>\n",
       "      <th>Rainy Games</th>\n",
       "    </tr>\n",
       "  </thead>\n",
       "  <tbody>\n",
       "    <tr>\n",
       "      <th>0</th>\n",
       "      <td>St Pauli</td>\n",
       "      <td>59</td>\n",
       "      <td>18</td>\n",
       "      <td>8</td>\n",
       "      <td>3.0</td>\n",
       "      <td>19.0</td>\n",
       "    </tr>\n",
       "    <tr>\n",
       "      <th>1</th>\n",
       "      <td>Freiburg</td>\n",
       "      <td>45</td>\n",
       "      <td>10</td>\n",
       "      <td>14</td>\n",
       "      <td>0.0</td>\n",
       "      <td>18.0</td>\n",
       "    </tr>\n",
       "    <tr>\n",
       "      <th>2</th>\n",
       "      <td>Fortuna Dusseldorf</td>\n",
       "      <td>64</td>\n",
       "      <td>16</td>\n",
       "      <td>4</td>\n",
       "      <td>2.0</td>\n",
       "      <td>20.0</td>\n",
       "    </tr>\n",
       "    <tr>\n",
       "      <th>3</th>\n",
       "      <td>Hansa Rostock</td>\n",
       "      <td>34</td>\n",
       "      <td>5</td>\n",
       "      <td>17</td>\n",
       "      <td>0.0</td>\n",
       "      <td>18.0</td>\n",
       "    </tr>\n",
       "    <tr>\n",
       "      <th>4</th>\n",
       "      <td>Stuttgart</td>\n",
       "      <td>63</td>\n",
       "      <td>15</td>\n",
       "      <td>11</td>\n",
       "      <td>0.0</td>\n",
       "      <td>17.0</td>\n",
       "    </tr>\n",
       "    <tr>\n",
       "      <th>5</th>\n",
       "      <td>West Brom</td>\n",
       "      <td>45</td>\n",
       "      <td>13</td>\n",
       "      <td>17</td>\n",
       "      <td>1.0</td>\n",
       "      <td>19.0</td>\n",
       "    </tr>\n",
       "    <tr>\n",
       "      <th>6</th>\n",
       "      <td>Ingolstadt</td>\n",
       "      <td>43</td>\n",
       "      <td>8</td>\n",
       "      <td>13</td>\n",
       "      <td>0.0</td>\n",
       "      <td>18.0</td>\n",
       "    </tr>\n",
       "    <tr>\n",
       "      <th>7</th>\n",
       "      <td>Frankfurt FSV</td>\n",
       "      <td>43</td>\n",
       "      <td>7</td>\n",
       "      <td>13</td>\n",
       "      <td>0.0</td>\n",
       "      <td>19.0</td>\n",
       "    </tr>\n",
       "    <tr>\n",
       "      <th>8</th>\n",
       "      <td>Mainz</td>\n",
       "      <td>47</td>\n",
       "      <td>9</td>\n",
       "      <td>13</td>\n",
       "      <td>0.0</td>\n",
       "      <td>17.0</td>\n",
       "    </tr>\n",
       "    <tr>\n",
       "      <th>9</th>\n",
       "      <td>Everton</td>\n",
       "      <td>50</td>\n",
       "      <td>15</td>\n",
       "      <td>12</td>\n",
       "      <td>0.0</td>\n",
       "      <td>21.0</td>\n",
       "    </tr>\n",
       "  </tbody>\n",
       "</table>\n",
       "</div>"
      ],
      "text/plain": [
       "             TeamName Goals Wins Losses  Rainy Wins  Rainy Games\n",
       "0            St Pauli    59   18      8         3.0         19.0\n",
       "1            Freiburg    45   10     14         0.0         18.0\n",
       "2  Fortuna Dusseldorf    64   16      4         2.0         20.0\n",
       "3       Hansa Rostock    34    5     17         0.0         18.0\n",
       "4           Stuttgart    63   15     11         0.0         17.0\n",
       "5           West Brom    45   13     17         1.0         19.0\n",
       "6          Ingolstadt    43    8     13         0.0         18.0\n",
       "7       Frankfurt FSV    43    7     13         0.0         19.0\n",
       "8               Mainz    47    9     13         0.0         17.0\n",
       "9             Everton    50   15     12         0.0         21.0"
      ]
     },
     "execution_count": 29,
     "metadata": {},
     "output_type": "execute_result"
    }
   ],
   "source": [
    "rainy_wins_and_teams=list(zip(teams,rainy_win_counts,rainy_games_counts))\n",
    "for i in range(len(rainy_wins_and_teams)):\n",
    "    season2011.loc[season2011['TeamName']==rainy_wins_and_teams[i][0],'Rainy Wins']=rainy_wins_and_teams[i][1]\n",
    "    season2011.loc[season2011['TeamName']==rainy_wins_and_teams[i][0],'Rainy Games']=rainy_wins_and_teams[i][2]\n",
    "season2011.head(10)"
   ]
  },
  {
   "cell_type": "code",
   "execution_count": 30,
   "metadata": {},
   "outputs": [
    {
     "data": {
      "text/html": [
       "<div>\n",
       "<style scoped>\n",
       "    .dataframe tbody tr th:only-of-type {\n",
       "        vertical-align: middle;\n",
       "    }\n",
       "\n",
       "    .dataframe tbody tr th {\n",
       "        vertical-align: top;\n",
       "    }\n",
       "\n",
       "    .dataframe thead th {\n",
       "        text-align: right;\n",
       "    }\n",
       "</style>\n",
       "<table border=\"1\" class=\"dataframe\">\n",
       "  <thead>\n",
       "    <tr style=\"text-align: right;\">\n",
       "      <th></th>\n",
       "      <th>TeamName</th>\n",
       "      <th>Goals</th>\n",
       "      <th>Wins</th>\n",
       "      <th>Losses</th>\n",
       "      <th>Rainy Wins</th>\n",
       "      <th>Rainy Games</th>\n",
       "      <th>RainWinPercent</th>\n",
       "    </tr>\n",
       "  </thead>\n",
       "  <tbody>\n",
       "    <tr>\n",
       "      <th>0</th>\n",
       "      <td>St Pauli</td>\n",
       "      <td>59</td>\n",
       "      <td>18</td>\n",
       "      <td>8</td>\n",
       "      <td>3.0</td>\n",
       "      <td>19.0</td>\n",
       "      <td>0.157895</td>\n",
       "    </tr>\n",
       "    <tr>\n",
       "      <th>1</th>\n",
       "      <td>Freiburg</td>\n",
       "      <td>45</td>\n",
       "      <td>10</td>\n",
       "      <td>14</td>\n",
       "      <td>0.0</td>\n",
       "      <td>18.0</td>\n",
       "      <td>0.000000</td>\n",
       "    </tr>\n",
       "    <tr>\n",
       "      <th>2</th>\n",
       "      <td>Fortuna Dusseldorf</td>\n",
       "      <td>64</td>\n",
       "      <td>16</td>\n",
       "      <td>4</td>\n",
       "      <td>2.0</td>\n",
       "      <td>20.0</td>\n",
       "      <td>0.100000</td>\n",
       "    </tr>\n",
       "    <tr>\n",
       "      <th>3</th>\n",
       "      <td>Hansa Rostock</td>\n",
       "      <td>34</td>\n",
       "      <td>5</td>\n",
       "      <td>17</td>\n",
       "      <td>0.0</td>\n",
       "      <td>18.0</td>\n",
       "      <td>0.000000</td>\n",
       "    </tr>\n",
       "    <tr>\n",
       "      <th>4</th>\n",
       "      <td>Stuttgart</td>\n",
       "      <td>63</td>\n",
       "      <td>15</td>\n",
       "      <td>11</td>\n",
       "      <td>0.0</td>\n",
       "      <td>17.0</td>\n",
       "      <td>0.000000</td>\n",
       "    </tr>\n",
       "    <tr>\n",
       "      <th>5</th>\n",
       "      <td>West Brom</td>\n",
       "      <td>45</td>\n",
       "      <td>13</td>\n",
       "      <td>17</td>\n",
       "      <td>1.0</td>\n",
       "      <td>19.0</td>\n",
       "      <td>0.052632</td>\n",
       "    </tr>\n",
       "    <tr>\n",
       "      <th>6</th>\n",
       "      <td>Ingolstadt</td>\n",
       "      <td>43</td>\n",
       "      <td>8</td>\n",
       "      <td>13</td>\n",
       "      <td>0.0</td>\n",
       "      <td>18.0</td>\n",
       "      <td>0.000000</td>\n",
       "    </tr>\n",
       "    <tr>\n",
       "      <th>7</th>\n",
       "      <td>Frankfurt FSV</td>\n",
       "      <td>43</td>\n",
       "      <td>7</td>\n",
       "      <td>13</td>\n",
       "      <td>0.0</td>\n",
       "      <td>19.0</td>\n",
       "      <td>0.000000</td>\n",
       "    </tr>\n",
       "    <tr>\n",
       "      <th>8</th>\n",
       "      <td>Mainz</td>\n",
       "      <td>47</td>\n",
       "      <td>9</td>\n",
       "      <td>13</td>\n",
       "      <td>0.0</td>\n",
       "      <td>17.0</td>\n",
       "      <td>0.000000</td>\n",
       "    </tr>\n",
       "    <tr>\n",
       "      <th>9</th>\n",
       "      <td>Everton</td>\n",
       "      <td>50</td>\n",
       "      <td>15</td>\n",
       "      <td>12</td>\n",
       "      <td>0.0</td>\n",
       "      <td>21.0</td>\n",
       "      <td>0.000000</td>\n",
       "    </tr>\n",
       "  </tbody>\n",
       "</table>\n",
       "</div>"
      ],
      "text/plain": [
       "             TeamName Goals Wins Losses  Rainy Wins  Rainy Games  \\\n",
       "0            St Pauli    59   18      8         3.0         19.0   \n",
       "1            Freiburg    45   10     14         0.0         18.0   \n",
       "2  Fortuna Dusseldorf    64   16      4         2.0         20.0   \n",
       "3       Hansa Rostock    34    5     17         0.0         18.0   \n",
       "4           Stuttgart    63   15     11         0.0         17.0   \n",
       "5           West Brom    45   13     17         1.0         19.0   \n",
       "6          Ingolstadt    43    8     13         0.0         18.0   \n",
       "7       Frankfurt FSV    43    7     13         0.0         19.0   \n",
       "8               Mainz    47    9     13         0.0         17.0   \n",
       "9             Everton    50   15     12         0.0         21.0   \n",
       "\n",
       "   RainWinPercent  \n",
       "0        0.157895  \n",
       "1        0.000000  \n",
       "2        0.100000  \n",
       "3        0.000000  \n",
       "4        0.000000  \n",
       "5        0.052632  \n",
       "6        0.000000  \n",
       "7        0.000000  \n",
       "8        0.000000  \n",
       "9        0.000000  "
      ]
     },
     "execution_count": 30,
     "metadata": {},
     "output_type": "execute_result"
    }
   ],
   "source": [
    "rain_percentage=[]\n",
    "for i in range(len(season2011)):\n",
    "    total_rainy_games=season2011['Rainy Games'][i]\n",
    "    rain_wins=season2011['Rainy Wins'][i]\n",
    "    rain_percentage.append(rain_wins/total_rainy_games)\n",
    "season2011['RainWinPercent']=rain_percentage\n",
    "season2011.head(10)"
   ]
  },
  {
   "cell_type": "code",
   "execution_count": 31,
   "metadata": {
    "scrolled": true
   },
   "outputs": [
    {
     "data": {
      "image/png": "[encoded data removed]",
      "text/plain": [
       "<Figure size 432x288 with 1 Axes>"
      ]
     },
     "metadata": {
      "needs_background": "light"
     },
     "output_type": "display_data"
    }
   ],
   "source": [
    "graph=plt.bar(x=season2011.TeamName[0],height=[season2011.Wins[0],season2011.Losses[0]], \n",
    "              width=[-0.4,0.4],align='edge',color=['red','blue'])"
   ]
  },
  {
   "cell_type": "code",
   "execution_count": 32,
   "metadata": {},
   "outputs": [],
   "source": [
    "def get_bar_graphs(dataframe):\n",
    "    graphs=[]\n",
    "    for i in range(len(dataframe.TeamName)):\n",
    "        fig=plt.figure()\n",
    "        ax = plt.subplot(111)\n",
    "        ax.bar(x=season2011.TeamName[i],height=[season2011.Wins[i],season2011.Losses[i]], \n",
    "              width=[-0.4,0.4],align='edge',color=['red','blue'])\n",
    "        graphs.append(fig);\n",
    "    dataframe['WinLossGraph']=graphs\n",
    "    return"
   ]
  },
  {
   "cell_type": "code",
   "execution_count": 33,
   "metadata": {
    "scrolled": false
   },
   "outputs": [
    {
     "name": "stderr",
     "output_type": "stream",
     "text": [
      "C:\\Users\\alvar\\AppData\\Local\\Continuum\\anaconda3\\lib\\site-packages\\matplotlib\\pyplot.py:514: RuntimeWarning: More than 20 figures have been opened. Figures created through the pyplot interface (`matplotlib.pyplot.figure`) are retained until explicitly closed and may consume too much memory. (To control this warning, see the rcParam `figure.max_open_warning`).\n",
      "  max_open_warning, RuntimeWarning)\n"
     ]
    },
    {
     "data": {
      "image/png": "[encoded data removed]",
      "text/plain": [
       "<Figure size 432x288 with 1 Axes>"
      ]
     },
     "metadata": {
      "needs_background": "light"
     },
     "output_type": "display_data"
    },
    {
     "data": {
      "image/png": "[encoded data removed]",
      "text/plain": [
       "<Figure size 432x288 with 1 Axes>"
      ]
     },
     "metadata": {
      "needs_background": "light"
     },
     "output_type": "display_data"
    },
    {
     "data": {
      "image/png": "[encoded data removed]",
      "text/plain": [
       "<Figure size 432x288 with 1 Axes>"
      ]
     },
     "metadata": {
      "needs_background": "light"
     },
     "output_type": "display_data"
    },
    {
     "data": {
      "image/png": "[encoded data removed]",
      "text/plain": [
       "<Figure size 432x288 with 1 Axes>"
      ]
     },
     "metadata": {
      "needs_background": "light"
     },
     "output_type": "display_data"
    },
    {
     "data": {
      "image/png": "[encoded data removed]",
      "text/plain": [
       "<Figure size 432x288 with 1 Axes>"
      ]
     },
     "metadata": {
      "needs_background": "light"
     },
     "output_type": "display_data"
    },
    {
     "data": {
      "image/png": "[encoded data removed]",
      "text/plain": [
       "<Figure size 432x288 with 1 Axes>"
      ]
     },
     "metadata": {
      "needs_background": "light"
     },
     "output_type": "display_data"
    },
    {
     "data": {
      "image/png": "[encoded data removed]",
      "text/plain": [
       "<Figure size 432x288 with 1 Axes>"
      ]
     },
     "metadata": {
      "needs_background": "light"
     },
     "output_type": "display_data"
    },
    {
     "data": {
      "image/png": "[encoded data removed]",
      "text/plain": [
       "<Figure size 432x288 with 1 Axes>"
      ]
     },
     "metadata": {
      "needs_background": "light"
     },
     "output_type": "display_data"
    },
    {
     "data": {
      "image/png": "[encoded data removed]",
      "text/plain": [
       "<Figure size 432x288 with 1 Axes>"
      ]
     },
     "metadata": {
      "needs_background": "light"
     },
     "output_type": "display_data"
    },
    {
     "data": {
      "image/png": "[encoded data removed]",
      "text/plain": [
       "<Figure size 432x288 with 1 Axes>"
      ]
     },
     "metadata": {
      "needs_background": "light"
     },
     "output_type": "display_data"
    },
    {
     "data": {
      "image/png": "[encoded data removed]",
      "text/plain": [
       "<Figure size 432x288 with 1 Axes>"
      ]
     },
     "metadata": {
      "needs_background": "light"
     },
     "output_type": "display_data"
    },
    {
     "data": {
      "image/png": "[encoded data removed]",
      "text/plain": [
       "<Figure size 432x288 with 1 Axes>"
      ]
     },
     "metadata": {
      "needs_background": "light"
     },
     "output_type": "display_data"
    },
    {
     "data": {
      "image/png": "[encoded data removed]",
      "text/plain": [
       "<Figure size 432x288 with 1 Axes>"
      ]
     },
     "metadata": {
      "needs_background": "light"
     },
     "output_type": "display_data"
    },
    {
     "data": {
      "image/png": "[encoded data removed]",
      "text/plain": [
       "<Figure size 432x288 with 1 Axes>"
      ]
     },
     "metadata": {
      "needs_background": "light"
     },
     "output_type": "display_data"
    },
    {
     "data": {
      "image/png": "[encoded data removed]",
      "text/plain": [
       "<Figure size 432x288 with 1 Axes>"
      ]
     },
     "metadata": {
      "needs_background": "light"
     },
     "output_type": "display_data"
    },
    {
     "data": {
      "image/png": "[encoded data removed]",
      "text/plain": [
       "<Figure size 432x288 with 1 Axes>"
      ]
     },
     "metadata": {
      "needs_background": "light"
     },
     "output_type": "display_data"
    },
    {
     "data": {
      "image/png": "[encoded data removed]",
      "text/plain": [
       "<Figure size 432x288 with 1 Axes>"
      ]
     },
     "metadata": {
      "needs_background": "light"
     },
     "output_type": "display_data"
    },
    {
     "data": {
      "image/png": "[encoded data removed]",
      "text/plain": [
       "<Figure size 432x288 with 1 Axes>"
      ]
     },
     "metadata": {
      "needs_background": "light"
     },
     "output_type": "display_data"
    },
    {
     "data": {
      "image/png": "[encoded data removed]",
      "text/plain": [
       "<Figure size 432x288 with 1 Axes>"
      ]
     },
     "metadata": {
      "needs_background": "light"
     },
     "output_type": "display_data"
    },
    {
     "data": {
      "image/png": "[encoded data removed]",
      "text/plain": [
       "<Figure size 432x288 with 1 Axes>"
      ]
     },
     "metadata": {
      "needs_background": "light"
     },
     "output_type": "display_data"
    },
    {
     "data": {
      "image/png": "[encoded data removed]",
      "text/plain": [
       "<Figure size 432x288 with 1 Axes>"
      ]
     },
     "metadata": {
      "needs_background": "light"
     },
     "output_type": "display_data"
    },
    {
     "data": {
      "image/png": "[encoded data removed]",
      "text/plain": [
       "<Figure size 432x288 with 1 Axes>"
      ]
     },
     "metadata": {
      "needs_background": "light"
     },
     "output_type": "display_data"
    },
    {
     "data": {
      "image/png": "[encoded data removed]",
      "text/plain": [
       "<Figure size 432x288 with 1 Axes>"
      ]
     },
     "metadata": {
      "needs_background": "light"
     },
     "output_type": "display_data"
    },
    {
     "data": {
      "image/png": "[encoded data removed]",
      "text/plain": [
       "<Figure size 432x288 with 1 Axes>"
      ]
     },
     "metadata": {
      "needs_background": "light"
     },
     "output_type": "display_data"
    },
    {
     "data": {
      "image/png": "[encoded data removed]",
      "text/plain": [
       "<Figure size 432x288 with 1 Axes>"
      ]
     },
     "metadata": {
      "needs_background": "light"
     },
     "output_type": "display_data"
    },
    {
     "data": {
      "image/png": "[encoded data removed]",
      "text/plain": [
       "<Figure size 432x288 with 1 Axes>"
      ]
     },
     "metadata": {
      "needs_background": "light"
     },
     "output_type": "display_data"
    },
    {
     "data": {
      "image/png": "[encoded data removed]",
      "text/plain": [
       "<Figure size 432x288 with 1 Axes>"
      ]
     },
     "metadata": {
      "needs_background": "light"
     },
     "output_type": "display_data"
    },
    {
     "data": {
      "image/png": "[encoded data removed]",
      "text/plain": [
       "<Figure size 432x288 with 1 Axes>"
      ]
     },
     "metadata": {
      "needs_background": "light"
     },
     "output_type": "display_data"
    },
    {
     "data": {
      "image/png": "[encoded data removed]",
      "text/plain": [
       "<Figure size 432x288 with 1 Axes>"
      ]
     },
     "metadata": {
      "needs_background": "light"
     },
     "output_type": "display_data"
    },
    {
     "data": {
      "image/png": "[encoded data removed]",
      "text/plain": [
       "<Figure size 432x288 with 1 Axes>"
      ]
     },
     "metadata": {
      "needs_background": "light"
     },
     "output_type": "display_data"
    },
    {
     "data": {
      "image/png": "[encoded data removed]",
      "text/plain": [
       "<Figure size 432x288 with 1 Axes>"
      ]
     },
     "metadata": {
      "needs_background": "light"
     },
     "output_type": "display_data"
    },
    {
     "data": {
      "image/png": "[encoded data removed]",
      "text/plain": [
       "<Figure size 432x288 with 1 Axes>"
      ]
     },
     "metadata": {
      "needs_background": "light"
     },
     "output_type": "display_data"
    },
    {
     "data": {
      "image/png": "[encoded data removed]",
      "text/plain": [
       "<Figure size 432x288 with 1 Axes>"
      ]
     },
     "metadata": {
      "needs_background": "light"
     },
     "output_type": "display_data"
    },
    {
     "data": {
      "image/png": "[encoded data removed]",
      "text/plain": [
       "<Figure size 432x288 with 1 Axes>"
      ]
     },
     "metadata": {
      "needs_background": "light"
     },
     "output_type": "display_data"
    },
    {
     "data": {
      "image/png": "[encoded data removed]",
      "text/plain": [
       "<Figure size 432x288 with 1 Axes>"
      ]
     },
     "metadata": {
      "needs_background": "light"
     },
     "output_type": "display_data"
    },
    {
     "data": {
      "image/png": "[encoded data removed]",
      "text/plain": [
       "<Figure size 432x288 with 1 Axes>"
      ]
     },
     "metadata": {
      "needs_background": "light"
     },
     "output_type": "display_data"
    },
    {
     "data": {
      "image/png": "[encoded data removed]",
      "text/plain": [
       "<Figure size 432x288 with 1 Axes>"
      ]
     },
     "metadata": {
      "needs_background": "light"
     },
     "output_type": "display_data"
    },
    {
     "data": {
      "image/png": "[encoded data removed]",
      "text/plain": [
       "<Figure size 432x288 with 1 Axes>"
      ]
     },
     "metadata": {
      "needs_background": "light"
     },
     "output_type": "display_data"
    },
    {
     "data": {
      "image/png": "[encoded data removed]",
      "text/plain": [
       "<Figure size 432x288 with 1 Axes>"
      ]
     },
     "metadata": {
      "needs_background": "light"
     },
     "output_type": "display_data"
    },
    {
     "data": {
      "image/png": "[encoded data removed]",
      "text/plain": [
       "<Figure size 432x288 with 1 Axes>"
      ]
     },
     "metadata": {
      "needs_background": "light"
     },
     "output_type": "display_data"
    },
    {
     "data": {
      "image/png": "[encoded data removed]",
      "text/plain": [
       "<Figure size 432x288 with 1 Axes>"
      ]
     },
     "metadata": {
      "needs_background": "light"
     },
     "output_type": "display_data"
    },
    {
     "data": {
      "image/png": "[encoded data removed]",
      "text/plain": [
       "<Figure size 432x288 with 1 Axes>"
      ]
     },
     "metadata": {
      "needs_background": "light"
     },
     "output_type": "display_data"
    },
    {
     "data": {
      "image/png": "[encoded data removed]",
      "text/plain": [
       "<Figure size 432x288 with 1 Axes>"
      ]
     },
     "metadata": {
      "needs_background": "light"
     },
     "output_type": "display_data"
    },
    {
     "data": {
      "image/png": "[encoded data removed]",
      "text/plain": [
       "<Figure size 432x288 with 1 Axes>"
      ]
     },
     "metadata": {
      "needs_background": "light"
     },
     "output_type": "display_data"
    },
    {
     "data": {
      "image/png": "[encoded data removed]",
      "text/plain": [
       "<Figure size 432x288 with 1 Axes>"
      ]
     },
     "metadata": {
      "needs_background": "light"
     },
     "output_type": "display_data"
    },
    {
     "data": {
      "image/png": "[encoded data removed]",
      "text/plain": [
       "<Figure size 432x288 with 1 Axes>"
      ]
     },
     "metadata": {
      "needs_background": "light"
     },
     "output_type": "display_data"
    },
    {
     "data": {
      "image/png": "[encoded data removed]",
      "text/plain": [
       "<Figure size 432x288 with 1 Axes>"
      ]
     },
     "metadata": {
      "needs_background": "light"
     },
     "output_type": "display_data"
    },
    {
     "data": {
      "image/png": "[encoded data removed]",
      "text/plain": [
       "<Figure size 432x288 with 1 Axes>"
      ]
     },
     "metadata": {
      "needs_background": "light"
     },
     "output_type": "display_data"
    },
    {
     "data": {
      "image/png": "[encoded data removed]",
      "text/plain": [
       "<Figure size 432x288 with 1 Axes>"
      ]
     },
     "metadata": {
      "needs_background": "light"
     },
     "output_type": "display_data"
    },
    {
     "data": {
      "image/png": "[encoded data removed]",
      "text/plain": [
       "<Figure size 432x288 with 1 Axes>"
      ]
     },
     "metadata": {
      "needs_background": "light"
     },
     "output_type": "display_data"
    },
    {
     "data": {
      "image/png": "[encoded data removed]",
      "text/plain": [
       "<Figure size 432x288 with 1 Axes>"
      ]
     },
     "metadata": {
      "needs_background": "light"
     },
     "output_type": "display_data"
    },
    {
     "data": {
      "image/png": "[encoded data removed]",
      "text/plain": [
       "<Figure size 432x288 with 1 Axes>"
      ]
     },
     "metadata": {
      "needs_background": "light"
     },
     "output_type": "display_data"
    },
    {
     "data": {
      "image/png": "[encoded data removed]",
      "text/plain": [
       "<Figure size 432x288 with 1 Axes>"
      ]
     },
     "metadata": {
      "needs_background": "light"
     },
     "output_type": "display_data"
    },
    {
     "data": {
      "image/png": "[encoded data removed]",
      "text/plain": [
       "<Figure size 432x288 with 1 Axes>"
      ]
     },
     "metadata": {
      "needs_background": "light"
     },
     "output_type": "display_data"
    },
    {
     "data": {
      "image/png": "[encoded data removed]",
      "text/plain": [
       "<Figure size 432x288 with 1 Axes>"
      ]
     },
     "metadata": {
      "needs_background": "light"
     },
     "output_type": "display_data"
    },
    {
     "data": {
      "image/png": "[encoded data removed]",
      "text/plain": [
       "<Figure size 432x288 with 1 Axes>"
      ]
     },
     "metadata": {
      "needs_background": "light"
     },
     "output_type": "display_data"
    }
   ],
   "source": [
    "get_bar_graphs(season2011)"
   ]
  },
  {
   "cell_type": "code",
   "execution_count": 34,
   "metadata": {
    "scrolled": true
   },
   "outputs": [
    {
     "data": {
      "image/png": "[encoded data removed]",
      "text/plain": [
       "<Figure size 432x288 with 1 Axes>"
      ]
     },
     "execution_count": 34,
     "metadata": {},
     "output_type": "execute_result"
    }
   ],
   "source": [
    "season2011.WinLossGraph[0]"
   ]
  },
  {
   "cell_type": "code",
   "execution_count": 35,
   "metadata": {},
   "outputs": [],
   "source": [
    "class MongoHandler(object):\n",
    "    def __init__(self):\n",
    "        self.myclient = pymongo.MongoClient('mongodb://127.0.0.1:27017/')\n",
    "        self.soccer_db = self.myclient['soccer_db']\n",
    "        self.soccer_collection=self.soccer_db['soccer_collection']\n",
    "    \n",
    "    def new_entry(self,team_name,number_of_goals,number_of_wins,rain_wins):\n",
    "        new_entry={'Team Name':team_name,'Number of Goals':number_of_goals,\n",
    "                   'Number of Wins':number_of_wins,'Win Percentage in Rain':rain_wins}\n",
    "        return new_entry\n",
    "    \n",
    "    def many_entries(self,dataframe):\n",
    "        for i in range(len(dataframe)):\n",
    "            team_name=dataframe['TeamName'][i]\n",
    "            number_of_goals=str(dataframe['Goals'][i])\n",
    "            number_of_wins=str(dataframe['Wins'][i])\n",
    "            rain_wins=str(dataframe['RainWinPercent'][i])\n",
    "            record=self.new_entry(team_name,number_of_goals,number_of_wins,rain_wins)\n",
    "            print((record))\n",
    "            self.soccer_collection.insert_one(record)\n",
    "        return"
   ]
  },
  {
   "cell_type": "code",
   "execution_count": 36,
   "metadata": {},
   "outputs": [],
   "source": [
    "db=MongoHandler()"
   ]
  },
  {
   "cell_type": "code",
   "execution_count": 37,
   "metadata": {},
   "outputs": [
    {
     "name": "stdout",
     "output_type": "stream",
     "text": [
      "{'Team Name': 'St Pauli', 'Number of Goals': '59', 'Number of Wins': '18', 'Win Percentage in Rain': '0.15789473684210525'}\n",
      "{'Team Name': 'Freiburg', 'Number of Goals': '45', 'Number of Wins': '10', 'Win Percentage in Rain': '0.0'}\n",
      "{'Team Name': 'Fortuna Dusseldorf', 'Number of Goals': '64', 'Number of Wins': '16', 'Win Percentage in Rain': '0.1'}\n",
      "{'Team Name': 'Hansa Rostock', 'Number of Goals': '34', 'Number of Wins': '5', 'Win Percentage in Rain': '0.0'}\n",
      "{'Team Name': 'Stuttgart', 'Number of Goals': '63', 'Number of Wins': '15', 'Win Percentage in Rain': '0.0'}\n",
      "{'Team Name': 'West Brom', 'Number of Goals': '45', 'Number of Wins': '13', 'Win Percentage in Rain': '0.05263157894736842'}\n",
      "{'Team Name': 'Ingolstadt', 'Number of Goals': '43', 'Number of Wins': '8', 'Win Percentage in Rain': '0.0'}\n",
      "{'Team Name': 'Frankfurt FSV', 'Number of Goals': '43', 'Number of Wins': '7', 'Win Percentage in Rain': '0.0'}\n",
      "{'Team Name': 'Mainz', 'Number of Goals': '47', 'Number of Wins': '9', 'Win Percentage in Rain': '0.0'}\n",
      "{'Team Name': 'Everton', 'Number of Goals': '50', 'Number of Wins': '15', 'Win Percentage in Rain': '0.0'}\n",
      "{'Team Name': 'Wolves', 'Number of Goals': '40', 'Number of Wins': '5', 'Win Percentage in Rain': '0.0'}\n",
      "{'Team Name': 'Wolfsburg', 'Number of Goals': '47', 'Number of Wins': '13', 'Win Percentage in Rain': '0.05555555555555555'}\n",
      "{'Team Name': 'Norwich', 'Number of Goals': '52', 'Number of Wins': '12', 'Win Percentage in Rain': '0.05263157894736842'}\n",
      "{'Team Name': 'Schalke 04', 'Number of Goals': '74', 'Number of Wins': '20', 'Win Percentage in Rain': '0.10526315789473684'}\n",
      "{'Team Name': 'Hamburg', 'Number of Goals': '35', 'Number of Wins': '8', 'Win Percentage in Rain': '0.0'}\n",
      "{'Team Name': 'Augsburg', 'Number of Goals': '36', 'Number of Wins': '8', 'Win Percentage in Rain': '0.0'}\n",
      "{'Team Name': 'Bochum', 'Number of Goals': '41', 'Number of Wins': '10', 'Win Percentage in Rain': '0.10526315789473684'}\n",
      "{'Team Name': 'Tottenham', 'Number of Goals': '66', 'Number of Wins': '20', 'Win Percentage in Rain': '0.05'}\n",
      "{'Team Name': 'Karlsruhe', 'Number of Goals': '34', 'Number of Wins': '9', 'Win Percentage in Rain': '0.05'}\n",
      "{'Team Name': 'Hertha', 'Number of Goals': '38', 'Number of Wins': '7', 'Win Percentage in Rain': '0.0'}\n",
      "{'Team Name': 'Arsenal', 'Number of Goals': '74', 'Number of Wins': '21', 'Win Percentage in Rain': '0.0'}\n",
      "{'Team Name': 'QPR', 'Number of Goals': '43', 'Number of Wins': '10', 'Win Percentage in Rain': '0.045454545454545456'}\n",
      "{'Team Name': 'Sunderland', 'Number of Goals': '45', 'Number of Wins': '11', 'Win Percentage in Rain': '0.05'}\n",
      "{'Team Name': 'Hoffenheim', 'Number of Goals': '41', 'Number of Wins': '10', 'Win Percentage in Rain': '0.0'}\n",
      "{'Team Name': 'FC Koln', 'Number of Goals': '39', 'Number of Wins': '8', 'Win Percentage in Rain': '0.0'}\n",
      "{'Team Name': 'Dresden', 'Number of Goals': '50', 'Number of Wins': '12', 'Win Percentage in Rain': '0.05555555555555555'}\n",
      "{'Team Name': 'Cottbus', 'Number of Goals': '30', 'Number of Wins': '8', 'Win Percentage in Rain': '0.1111111111111111'}\n",
      "{'Team Name': 'Munich 1860', 'Number of Goals': '62', 'Number of Wins': '17', 'Win Percentage in Rain': '0.19047619047619047'}\n",
      "{'Team Name': 'Aachen', 'Number of Goals': '30', 'Number of Wins': '6', 'Win Percentage in Rain': '0.05555555555555555'}\n",
      "{'Team Name': 'Hannover', 'Number of Goals': '41', 'Number of Wins': '12', 'Win Percentage in Rain': '0.05555555555555555'}\n",
      "{'Team Name': 'Braunschweig', 'Number of Goals': '37', 'Number of Wins': '10', 'Win Percentage in Rain': '0.05555555555555555'}\n",
      "{'Team Name': 'Blackburn', 'Number of Goals': '48', 'Number of Wins': '8', 'Win Percentage in Rain': '0.0'}\n",
      "{'Team Name': 'Erzgebirge Aue', 'Number of Goals': '31', 'Number of Wins': '8', 'Win Percentage in Rain': '0.05555555555555555'}\n",
      "{'Team Name': 'Paderborn', 'Number of Goals': '51', 'Number of Wins': '17', 'Win Percentage in Rain': '0.1111111111111111'}\n",
      "{'Team Name': 'Union Berlin', 'Number of Goals': '55', 'Number of Wins': '14', 'Win Percentage in Rain': '0.05263157894736842'}\n",
      "{'Team Name': 'Chelsea', 'Number of Goals': '65', 'Number of Wins': '18', 'Win Percentage in Rain': '0.05263157894736842'}\n",
      "{'Team Name': 'Liverpool', 'Number of Goals': '47', 'Number of Wins': '14', 'Win Percentage in Rain': '0.05'}\n",
      "{'Team Name': 'Stoke', 'Number of Goals': '36', 'Number of Wins': '11', 'Win Percentage in Rain': '0.10526315789473684'}\n",
      "{'Team Name': 'Newcastle', 'Number of Goals': '56', 'Number of Wins': '19', 'Win Percentage in Rain': '0.045454545454545456'}\n",
      "{'Team Name': 'Aston Villa', 'Number of Goals': '37', 'Number of Wins': '7', 'Win Percentage in Rain': '0.0'}\n",
      "{'Team Name': 'Greuther Furth', 'Number of Goals': '73', 'Number of Wins': '20', 'Win Percentage in Rain': '0.058823529411764705'}\n",
      "{'Team Name': \"M'gladbach\", 'Number of Goals': '49', 'Number of Wins': '17', 'Win Percentage in Rain': '0.0'}\n",
      "{'Team Name': 'Bayern Munich', 'Number of Goals': '77', 'Number of Wins': '23', 'Win Percentage in Rain': '0.058823529411764705'}\n",
      "{'Team Name': 'Fulham', 'Number of Goals': '48', 'Number of Wins': '14', 'Win Percentage in Rain': '0.13043478260869565'}\n",
      "{'Team Name': 'Wigan', 'Number of Goals': '42', 'Number of Wins': '11', 'Win Percentage in Rain': '0.0'}\n",
      "{'Team Name': 'Dortmund', 'Number of Goals': '80', 'Number of Wins': '25', 'Win Percentage in Rain': '0.1111111111111111'}\n",
      "{'Team Name': 'Man City', 'Number of Goals': '93', 'Number of Wins': '28', 'Win Percentage in Rain': '0.1'}\n",
      "{'Team Name': 'Ein Frankfurt', 'Number of Goals': '76', 'Number of Wins': '20', 'Win Percentage in Rain': '0.0'}\n",
      "{'Team Name': 'Leverkusen', 'Number of Goals': '52', 'Number of Wins': '15', 'Win Percentage in Rain': '0.0'}\n",
      "{'Team Name': 'Kaiserslautern', 'Number of Goals': '24', 'Number of Wins': '4', 'Win Percentage in Rain': '0.0'}\n",
      "{'Team Name': 'Duisburg', 'Number of Goals': '42', 'Number of Wins': '10', 'Win Percentage in Rain': '0.05263157894736842'}\n",
      "{'Team Name': 'Bolton', 'Number of Goals': '46', 'Number of Wins': '10', 'Win Percentage in Rain': '0.05'}\n",
      "{'Team Name': 'Man United', 'Number of Goals': '89', 'Number of Wins': '28', 'Win Percentage in Rain': '0.09523809523809523'}\n",
      "{'Team Name': 'Swansea', 'Number of Goals': '44', 'Number of Wins': '12', 'Win Percentage in Rain': '0.05263157894736842'}\n",
      "{'Team Name': 'Nurnberg', 'Number of Goals': '38', 'Number of Wins': '12', 'Win Percentage in Rain': '0.058823529411764705'}\n",
      "{'Team Name': 'Werder Bremen', 'Number of Goals': '49', 'Number of Wins': '11', 'Win Percentage in Rain': '0.0'}\n"
     ]
    }
   ],
   "source": [
    "db.many_entries(season2011)"
   ]
  },
  {
   "cell_type": "markdown",
   "metadata": {},
   "source": [
    "# Summary\n",
    "\n",
    "In this lab, we dug deep and used everything we've learned so far about python programming, databases, HTTP requests and API calls to ETL data from a SQL database into a MongoDB instance!"
   ]
  }
 ],
 "metadata": {
  "kernelspec": {
   "display_name": "Python 3",
   "language": "python",
   "name": "python3"
  },
  "language_info": {
   "codemirror_mode": {
    "name": "ipython",
    "version": 3
   },
   "file_extension": ".py",
   "mimetype": "text/x-python",
   "name": "python",
   "nbconvert_exporter": "python",
   "pygments_lexer": "ipython3",
   "version": "3.7.3"
  }
 },
 "nbformat": 4,
 "nbformat_minor": 2
}
